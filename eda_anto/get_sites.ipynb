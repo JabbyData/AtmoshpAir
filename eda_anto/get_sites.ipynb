{
 "cells": [
  {
   "cell_type": "code",
   "execution_count": null,
   "metadata": {},
   "outputs": [],
   "source": [
    "# Dependencies\n",
    "import requests\n",
    "import polars as pl"
   ]
  },
  {
   "cell_type": "code",
   "execution_count": 2,
   "metadata": {},
   "outputs": [
    {
     "data": {
      "text/plain": [
       "polars.config.Config"
      ]
     },
     "execution_count": 2,
     "metadata": {},
     "output_type": "execute_result"
    }
   ],
   "source": [
    "# Configs\n",
    "pl.Config.set_tbl_rows(100)\n",
    "pl.Config.set_tbl_cols(100)"
   ]
  },
  {
   "cell_type": "code",
   "execution_count": 3,
   "metadata": {},
   "outputs": [
    {
     "name": "stdout",
     "output_type": "stream",
     "text": [
      "<Response [200]>\n"
     ]
    }
   ],
   "source": [
    "# sites exploration\n",
    "response = requests.get('https://api.atmo-aura.fr/api/v1/sites?api_token=d74c07197ec9da83735c487bcb94e386&format=json')\n",
    "print(response)"
   ]
  },
  {
   "cell_type": "code",
   "execution_count": 4,
   "metadata": {},
   "outputs": [],
   "source": [
    "sites_data = pl.DataFrame(response.json()['data'])"
   ]
  },
  {
   "cell_type": "code",
   "execution_count": 5,
   "metadata": {},
   "outputs": [
    {
     "data": {
      "text/html": [
       "<div><style>\n",
       ".dataframe > thead > tr,\n",
       ".dataframe > tbody > tr {\n",
       "  text-align: right;\n",
       "  white-space: pre-wrap;\n",
       "}\n",
       "</style>\n",
       "<small>shape: (5, 18)</small><table border=\"1\" class=\"dataframe\"><thead><tr><th>id</th><th>label</th><th>label_interne</th><th>altitude</th><th>insee</th><th>label_commune</th><th>departement</th><th>label_departement</th><th>type</th><th>label_type</th><th>typologie</th><th>label_court_polluants</th><th>date_debut</th><th>date_fin</th><th>en_service</th><th>lon_epsg2154</th><th>lat_epsg2154</th><th>geojson</th></tr><tr><td>str</td><td>str</td><td>str</td><td>i64</td><td>str</td><td>str</td><td>str</td><td>str</td><td>i64</td><td>str</td><td>str</td><td>str</td><td>str</td><td>str</td><td>i64</td><td>str</td><td>str</td><td>str</td></tr></thead><tbody><tr><td>&quot;ET00651&quot;</td><td>&quot;INSPIRA-MaisonProjet&quot;</td><td>&quot;INSPIRA-MaisonProjet&quot;</td><td>null</td><td>&quot;38468&quot;</td><td>&quot;Salaise-sur-Sanne&quot;</td><td>&quot;38&quot;</td><td>&quot;Isère&quot;</td><td>2</td><td>&quot;ETUDE&quot;</td><td>&quot;Observation Spécifique&quot;</td><td>&quot;C6H6,NO2,PM10,PM2.5,mercure ga…</td><td>&quot;2020-01-01T00:00:00Z&quot;</td><td>null</td><td>1</td><td>&quot;840470.5610114336&quot;</td><td>&quot;6472347.291509954&quot;</td><td>&quot;{&quot;type&quot;:&quot;Point&quot;,&quot;coordinates&quot;:…</td></tr><tr><td>&quot;ET00697&quot;</td><td>&quot;Modane Piscine&quot;</td><td>&quot;Modane_Piscine&quot;</td><td>1059</td><td>&quot;73157&quot;</td><td>&quot;Modane&quot;</td><td>&quot;73&quot;</td><td>&quot;Savoie&quot;</td><td>2</td><td>&quot;ETUDE&quot;</td><td>&quot;Urbain&quot;</td><td>&quot;NO,NO2,O3,PM10,PM2.5,humidité …</td><td>&quot;2020-12-01T00:00:00Z&quot;</td><td>&quot;2022-03-22T00:00:00Z&quot;</td><td>0</td><td>&quot;987724.5641060441&quot;</td><td>&quot;6462373.731523326&quot;</td><td>&quot;{&quot;type&quot;:&quot;Point&quot;,&quot;coordinates&quot;:…</td></tr><tr><td>&quot;ET00720&quot;</td><td>&quot;Cluses Jardin botanique&quot;</td><td>&quot;Cluses Jardin&quot;</td><td>477</td><td>&quot;74081&quot;</td><td>&quot;Cluses&quot;</td><td>&quot;74&quot;</td><td>&quot;Haute-Savoie&quot;</td><td>2</td><td>&quot;ETUDE&quot;</td><td>&quot;Urbain&quot;</td><td>&quot;PM10,PM2.5,humidité relative,t…</td><td>&quot;2020-12-29T00:00:00Z&quot;</td><td>&quot;2022-02-25T09:00:00Z&quot;</td><td>0</td><td>&quot;975469.2771900352&quot;</td><td>&quot;6557613.55729428&quot;</td><td>&quot;{&quot;type&quot;:&quot;Point&quot;,&quot;coordinates&quot;:…</td></tr><tr><td>&quot;ET00734&quot;</td><td>&quot;GAM_Miribel&quot;</td><td>&quot;GAM_Miribel&quot;</td><td>null</td><td>&quot;38235&quot;</td><td>&quot;Miribel-Lanchâtre&quot;</td><td>&quot;38&quot;</td><td>&quot;Isère&quot;</td><td>2</td><td>&quot;ETUDE&quot;</td><td>&quot;Observation Spécifique&quot;</td><td>&quot;PM10,PM2.5,humidité relative,p…</td><td>&quot;2021-07-12T00:00:00Z&quot;</td><td>null</td><td>1</td><td>&quot;906509.0956073261&quot;</td><td>&quot;6434115.368509958&quot;</td><td>&quot;{&quot;type&quot;:&quot;Point&quot;,&quot;coordinates&quot;:…</td></tr><tr><td>&quot;ET00735&quot;</td><td>&quot;GAM_Meylan&quot;</td><td>&quot;GAM_Meylan&quot;</td><td>null</td><td>&quot;38229&quot;</td><td>&quot;Meylan&quot;</td><td>&quot;38&quot;</td><td>&quot;Isère&quot;</td><td>2</td><td>&quot;ETUDE&quot;</td><td>&quot;Observation Spécifique&quot;</td><td>&quot;PM10,PM2.5,humidité relative,p…</td><td>&quot;2021-07-27T00:00:00Z&quot;</td><td>null</td><td>1</td><td>&quot;918026.9956891267&quot;</td><td>&quot;6460597.173800105&quot;</td><td>&quot;{&quot;type&quot;:&quot;Point&quot;,&quot;coordinates&quot;:…</td></tr></tbody></table></div>"
      ],
      "text/plain": [
       "shape: (5, 18)\n",
       "┌─────┬─────┬─────┬─────┬─────┬─────┬─────┬─────┬─────┬─────┬─────┬─────┬─────┬─────┬─────┬─────┬─────┬─────┐\n",
       "│ id  ┆ lab ┆ lab ┆ alt ┆ ins ┆ lab ┆ dep ┆ lab ┆ typ ┆ lab ┆ typ ┆ lab ┆ dat ┆ dat ┆ en_ ┆ lon ┆ lat ┆ geo │\n",
       "│ --- ┆ el  ┆ el_ ┆ itu ┆ ee  ┆ el_ ┆ art ┆ el_ ┆ e   ┆ el_ ┆ olo ┆ el_ ┆ e_d ┆ e_f ┆ ser ┆ _ep ┆ _ep ┆ jso │\n",
       "│ str ┆ --- ┆ int ┆ de  ┆ --- ┆ com ┆ eme ┆ dep ┆ --- ┆ typ ┆ gie ┆ cou ┆ ebu ┆ in  ┆ vic ┆ sg2 ┆ sg2 ┆ n   │\n",
       "│     ┆ str ┆ ern ┆ --- ┆ str ┆ mun ┆ nt  ┆ art ┆ i64 ┆ e   ┆ --- ┆ rt_ ┆ t   ┆ --- ┆ e   ┆ 154 ┆ 154 ┆ --- │\n",
       "│     ┆     ┆ e   ┆ i64 ┆     ┆ e   ┆ --- ┆ eme ┆     ┆ --- ┆ str ┆ pol ┆ --- ┆ str ┆ --- ┆ --- ┆ --- ┆ str │\n",
       "│     ┆     ┆ --- ┆     ┆     ┆ --- ┆ str ┆ nt  ┆     ┆ str ┆     ┆ lua ┆ str ┆     ┆ i64 ┆ str ┆ str ┆     │\n",
       "│     ┆     ┆ str ┆     ┆     ┆ str ┆     ┆ --- ┆     ┆     ┆     ┆ nts ┆     ┆     ┆     ┆     ┆     ┆     │\n",
       "│     ┆     ┆     ┆     ┆     ┆     ┆     ┆ str ┆     ┆     ┆     ┆ --- ┆     ┆     ┆     ┆     ┆     ┆     │\n",
       "│     ┆     ┆     ┆     ┆     ┆     ┆     ┆     ┆     ┆     ┆     ┆ str ┆     ┆     ┆     ┆     ┆     ┆     │\n",
       "╞═════╪═════╪═════╪═════╪═════╪═════╪═════╪═════╪═════╪═════╪═════╪═════╪═════╪═════╪═════╪═════╪═════╪═════╡\n",
       "│ ET0 ┆ INS ┆ INS ┆ nul ┆ 384 ┆ Sal ┆ 38  ┆ Isè ┆ 2   ┆ ETU ┆ Obs ┆ C6H ┆ 202 ┆ nul ┆ 1   ┆ 840 ┆ 647 ┆ {\"t │\n",
       "│ 065 ┆ PIR ┆ PIR ┆ l   ┆ 68  ┆ ais ┆     ┆ re  ┆     ┆ DE  ┆ erv ┆ 6,N ┆ 0-0 ┆ l   ┆     ┆ 470 ┆ 234 ┆ ype │\n",
       "│ 1   ┆ A-M ┆ A-M ┆     ┆     ┆ e-s ┆     ┆     ┆     ┆     ┆ ati ┆ O2, ┆ 1-0 ┆     ┆     ┆ .56 ┆ 7.2 ┆ \":\" │\n",
       "│     ┆ ais ┆ ais ┆     ┆     ┆ ur- ┆     ┆     ┆     ┆     ┆ on  ┆ PM1 ┆ 1T0 ┆     ┆     ┆ 101 ┆ 915 ┆ Poi │\n",
       "│     ┆ onP ┆ onP ┆     ┆     ┆ San ┆     ┆     ┆     ┆     ┆ Spé ┆ 0,P ┆ 0:0 ┆     ┆     ┆ 143 ┆ 099 ┆ nt\" │\n",
       "│     ┆ roj ┆ roj ┆     ┆     ┆ ne  ┆     ┆     ┆     ┆     ┆ cif ┆ M2. ┆ 0:0 ┆     ┆     ┆ 36  ┆ 54  ┆ ,\"c │\n",
       "│     ┆ et  ┆ et  ┆     ┆     ┆     ┆     ┆     ┆     ┆     ┆ iqu ┆ 5,m ┆ 0Z  ┆     ┆     ┆     ┆     ┆ oor │\n",
       "│     ┆     ┆     ┆     ┆     ┆     ┆     ┆     ┆     ┆     ┆ e   ┆ erc ┆     ┆     ┆     ┆     ┆     ┆ din │\n",
       "│     ┆     ┆     ┆     ┆     ┆     ┆     ┆     ┆     ┆     ┆     ┆ ure ┆     ┆     ┆     ┆     ┆     ┆ ate │\n",
       "│     ┆     ┆     ┆     ┆     ┆     ┆     ┆     ┆     ┆     ┆     ┆ ga… ┆     ┆     ┆     ┆     ┆     ┆ s\": │\n",
       "│     ┆     ┆     ┆     ┆     ┆     ┆     ┆     ┆     ┆     ┆     ┆     ┆     ┆     ┆     ┆     ┆     ┆ …   │\n",
       "│ ET0 ┆ Mod ┆ Mod ┆ 105 ┆ 731 ┆ Mod ┆ 73  ┆ Sav ┆ 2   ┆ ETU ┆ Urb ┆ NO, ┆ 202 ┆ 202 ┆ 0   ┆ 987 ┆ 646 ┆ {\"t │\n",
       "│ 069 ┆ ane ┆ ane ┆ 9   ┆ 57  ┆ ane ┆     ┆ oie ┆     ┆ DE  ┆ ain ┆ NO2 ┆ 0-1 ┆ 2-0 ┆     ┆ 724 ┆ 237 ┆ ype │\n",
       "│ 7   ┆ Pis ┆ _Pi ┆     ┆     ┆     ┆     ┆     ┆     ┆     ┆     ┆ ,O3 ┆ 2-0 ┆ 3-2 ┆     ┆ .56 ┆ 3.7 ┆ \":\" │\n",
       "│     ┆ cin ┆ sci ┆     ┆     ┆     ┆     ┆     ┆     ┆     ┆     ┆ ,PM ┆ 1T0 ┆ 2T0 ┆     ┆ 410 ┆ 315 ┆ Poi │\n",
       "│     ┆ e   ┆ ne  ┆     ┆     ┆     ┆     ┆     ┆     ┆     ┆     ┆ 10, ┆ 0:0 ┆ 0:0 ┆     ┆ 604 ┆ 233 ┆ nt\" │\n",
       "│     ┆     ┆     ┆     ┆     ┆     ┆     ┆     ┆     ┆     ┆     ┆ PM2 ┆ 0:0 ┆ 0:0 ┆     ┆ 41  ┆ 26  ┆ ,\"c │\n",
       "│     ┆     ┆     ┆     ┆     ┆     ┆     ┆     ┆     ┆     ┆     ┆ .5, ┆ 0Z  ┆ 0Z  ┆     ┆     ┆     ┆ oor │\n",
       "│     ┆     ┆     ┆     ┆     ┆     ┆     ┆     ┆     ┆     ┆     ┆ hum ┆     ┆     ┆     ┆     ┆     ┆ din │\n",
       "│     ┆     ┆     ┆     ┆     ┆     ┆     ┆     ┆     ┆     ┆     ┆ idi ┆     ┆     ┆     ┆     ┆     ┆ ate │\n",
       "│     ┆     ┆     ┆     ┆     ┆     ┆     ┆     ┆     ┆     ┆     ┆ té  ┆     ┆     ┆     ┆     ┆     ┆ s\": │\n",
       "│     ┆     ┆     ┆     ┆     ┆     ┆     ┆     ┆     ┆     ┆     ┆ …   ┆     ┆     ┆     ┆     ┆     ┆ …   │\n",
       "│ ET0 ┆ Clu ┆ Clu ┆ 477 ┆ 740 ┆ Clu ┆ 74  ┆ Hau ┆ 2   ┆ ETU ┆ Urb ┆ PM1 ┆ 202 ┆ 202 ┆ 0   ┆ 975 ┆ 655 ┆ {\"t │\n",
       "│ 072 ┆ ses ┆ ses ┆     ┆ 81  ┆ ses ┆     ┆ te- ┆     ┆ DE  ┆ ain ┆ 0,P ┆ 0-1 ┆ 2-0 ┆     ┆ 469 ┆ 761 ┆ ype │\n",
       "│ 0   ┆ Jar ┆ Jar ┆     ┆     ┆     ┆     ┆ Sav ┆     ┆     ┆     ┆ M2. ┆ 2-2 ┆ 2-2 ┆     ┆ .27 ┆ 3.5 ┆ \":\" │\n",
       "│     ┆ din ┆ din ┆     ┆     ┆     ┆     ┆ oie ┆     ┆     ┆     ┆ 5,h ┆ 9T0 ┆ 5T0 ┆     ┆ 719 ┆ 572 ┆ Poi │\n",
       "│     ┆ bot ┆     ┆     ┆     ┆     ┆     ┆     ┆     ┆     ┆     ┆ umi ┆ 0:0 ┆ 9:0 ┆     ┆ 003 ┆ 942 ┆ nt\" │\n",
       "│     ┆ ani ┆     ┆     ┆     ┆     ┆     ┆     ┆     ┆     ┆     ┆ dit ┆ 0:0 ┆ 0:0 ┆     ┆ 52  ┆ 8   ┆ ,\"c │\n",
       "│     ┆ que ┆     ┆     ┆     ┆     ┆     ┆     ┆     ┆     ┆     ┆ é   ┆ 0Z  ┆ 0Z  ┆     ┆     ┆     ┆ oor │\n",
       "│     ┆     ┆     ┆     ┆     ┆     ┆     ┆     ┆     ┆     ┆     ┆ rel ┆     ┆     ┆     ┆     ┆     ┆ din │\n",
       "│     ┆     ┆     ┆     ┆     ┆     ┆     ┆     ┆     ┆     ┆     ┆ ati ┆     ┆     ┆     ┆     ┆     ┆ ate │\n",
       "│     ┆     ┆     ┆     ┆     ┆     ┆     ┆     ┆     ┆     ┆     ┆ ve, ┆     ┆     ┆     ┆     ┆     ┆ s\": │\n",
       "│     ┆     ┆     ┆     ┆     ┆     ┆     ┆     ┆     ┆     ┆     ┆ t…  ┆     ┆     ┆     ┆     ┆     ┆ …   │\n",
       "│ ET0 ┆ GAM ┆ GAM ┆ nul ┆ 382 ┆ Mir ┆ 38  ┆ Isè ┆ 2   ┆ ETU ┆ Obs ┆ PM1 ┆ 202 ┆ nul ┆ 1   ┆ 906 ┆ 643 ┆ {\"t │\n",
       "│ 073 ┆ _Mi ┆ _Mi ┆ l   ┆ 35  ┆ ibe ┆     ┆ re  ┆     ┆ DE  ┆ erv ┆ 0,P ┆ 1-0 ┆ l   ┆     ┆ 509 ┆ 411 ┆ ype │\n",
       "│ 4   ┆ rib ┆ rib ┆     ┆     ┆ l-L ┆     ┆     ┆     ┆     ┆ ati ┆ M2. ┆ 7-1 ┆     ┆     ┆ .09 ┆ 5.3 ┆ \":\" │\n",
       "│     ┆ el  ┆ el  ┆     ┆     ┆ anc ┆     ┆     ┆     ┆     ┆ on  ┆ 5,h ┆ 2T0 ┆     ┆     ┆ 560 ┆ 685 ┆ Poi │\n",
       "│     ┆     ┆     ┆     ┆     ┆ hât ┆     ┆     ┆     ┆     ┆ Spé ┆ umi ┆ 0:0 ┆     ┆     ┆ 732 ┆ 099 ┆ nt\" │\n",
       "│     ┆     ┆     ┆     ┆     ┆ re  ┆     ┆     ┆     ┆     ┆ cif ┆ dit ┆ 0:0 ┆     ┆     ┆ 61  ┆ 58  ┆ ,\"c │\n",
       "│     ┆     ┆     ┆     ┆     ┆     ┆     ┆     ┆     ┆     ┆ iqu ┆ é   ┆ 0Z  ┆     ┆     ┆     ┆     ┆ oor │\n",
       "│     ┆     ┆     ┆     ┆     ┆     ┆     ┆     ┆     ┆     ┆ e   ┆ rel ┆     ┆     ┆     ┆     ┆     ┆ din │\n",
       "│     ┆     ┆     ┆     ┆     ┆     ┆     ┆     ┆     ┆     ┆     ┆ ati ┆     ┆     ┆     ┆     ┆     ┆ ate │\n",
       "│     ┆     ┆     ┆     ┆     ┆     ┆     ┆     ┆     ┆     ┆     ┆ ve, ┆     ┆     ┆     ┆     ┆     ┆ s\": │\n",
       "│     ┆     ┆     ┆     ┆     ┆     ┆     ┆     ┆     ┆     ┆     ┆ p…  ┆     ┆     ┆     ┆     ┆     ┆ …   │\n",
       "│ ET0 ┆ GAM ┆ GAM ┆ nul ┆ 382 ┆ Mey ┆ 38  ┆ Isè ┆ 2   ┆ ETU ┆ Obs ┆ PM1 ┆ 202 ┆ nul ┆ 1   ┆ 918 ┆ 646 ┆ {\"t │\n",
       "│ 073 ┆ _Me ┆ _Me ┆ l   ┆ 29  ┆ lan ┆     ┆ re  ┆     ┆ DE  ┆ erv ┆ 0,P ┆ 1-0 ┆ l   ┆     ┆ 026 ┆ 059 ┆ ype │\n",
       "│ 5   ┆ yla ┆ yla ┆     ┆     ┆     ┆     ┆     ┆     ┆     ┆ ati ┆ M2. ┆ 7-2 ┆     ┆     ┆ .99 ┆ 7.1 ┆ \":\" │\n",
       "│     ┆ n   ┆ n   ┆     ┆     ┆     ┆     ┆     ┆     ┆     ┆ on  ┆ 5,h ┆ 7T0 ┆     ┆     ┆ 568 ┆ 738 ┆ Poi │\n",
       "│     ┆     ┆     ┆     ┆     ┆     ┆     ┆     ┆     ┆     ┆ Spé ┆ umi ┆ 0:0 ┆     ┆     ┆ 912 ┆ 001 ┆ nt\" │\n",
       "│     ┆     ┆     ┆     ┆     ┆     ┆     ┆     ┆     ┆     ┆ cif ┆ dit ┆ 0:0 ┆     ┆     ┆ 67  ┆ 05  ┆ ,\"c │\n",
       "│     ┆     ┆     ┆     ┆     ┆     ┆     ┆     ┆     ┆     ┆ iqu ┆ é   ┆ 0Z  ┆     ┆     ┆     ┆     ┆ oor │\n",
       "│     ┆     ┆     ┆     ┆     ┆     ┆     ┆     ┆     ┆     ┆ e   ┆ rel ┆     ┆     ┆     ┆     ┆     ┆ din │\n",
       "│     ┆     ┆     ┆     ┆     ┆     ┆     ┆     ┆     ┆     ┆     ┆ ati ┆     ┆     ┆     ┆     ┆     ┆ ate │\n",
       "│     ┆     ┆     ┆     ┆     ┆     ┆     ┆     ┆     ┆     ┆     ┆ ve, ┆     ┆     ┆     ┆     ┆     ┆ s\": │\n",
       "│     ┆     ┆     ┆     ┆     ┆     ┆     ┆     ┆     ┆     ┆     ┆ p…  ┆     ┆     ┆     ┆     ┆     ┆ …   │\n",
       "└─────┴─────┴─────┴─────┴─────┴─────┴─────┴─────┴─────┴─────┴─────┴─────┴─────┴─────┴─────┴─────┴─────┴─────┘"
      ]
     },
     "execution_count": 5,
     "metadata": {},
     "output_type": "execute_result"
    }
   ],
   "source": [
    "sites_data.head()"
   ]
  },
  {
   "cell_type": "code",
   "execution_count": 6,
   "metadata": {},
   "outputs": [
    {
     "data": {
      "text/html": [
       "<div><style>\n",
       ".dataframe > thead > tr,\n",
       ".dataframe > tbody > tr {\n",
       "  text-align: right;\n",
       "  white-space: pre-wrap;\n",
       "}\n",
       "</style>\n",
       "<small>shape: (10, 18)</small><table border=\"1\" class=\"dataframe\"><thead><tr><th>id</th><th>label</th><th>label_interne</th><th>altitude</th><th>insee</th><th>label_commune</th><th>departement</th><th>label_departement</th><th>type</th><th>label_type</th><th>typologie</th><th>label_court_polluants</th><th>date_debut</th><th>date_fin</th><th>en_service</th><th>lon_epsg2154</th><th>lat_epsg2154</th><th>geojson</th></tr><tr><td>str</td><td>str</td><td>str</td><td>i64</td><td>str</td><td>str</td><td>str</td><td>str</td><td>i64</td><td>str</td><td>str</td><td>str</td><td>str</td><td>str</td><td>i64</td><td>str</td><td>str</td><td>str</td></tr></thead><tbody><tr><td>&quot;ET00749&quot;</td><td>&quot;GAM_Grenoble&quot;</td><td>&quot;GAM_Grenoble&quot;</td><td>null</td><td>&quot;38185&quot;</td><td>&quot;Grenoble&quot;</td><td>&quot;38&quot;</td><td>&quot;Isère&quot;</td><td>2</td><td>&quot;ETUDE&quot;</td><td>&quot;Observation Spécifique&quot;</td><td>&quot;PM10,PM2.5,humidité relative,p…</td><td>&quot;2021-09-01T00:00:00Z&quot;</td><td>null</td><td>1</td><td>&quot;913823.4999080687&quot;</td><td>&quot;6456289.120098573&quot;</td><td>&quot;{&quot;type&quot;:&quot;Point&quot;,&quot;coordinates&quot;:…</td></tr><tr><td>&quot;ET00852&quot;</td><td>&quot;TIMC-clemenceau&quot;</td><td>&quot;TIMC-clemenceau&quot;</td><td>246</td><td>&quot;38185&quot;</td><td>&quot;Grenoble&quot;</td><td>&quot;38&quot;</td><td>&quot;Isère&quot;</td><td>2</td><td>&quot;ETUDE&quot;</td><td>&quot;Urbain&quot;</td><td>&quot;PM10,PM2.5,humidité relative,p…</td><td>&quot;2022-01-17T00:00:00Z&quot;</td><td>&quot;2023-12-31T00:00:00Z&quot;</td><td>0</td><td>&quot;914818.0907700707&quot;</td><td>&quot;6457372.650756924&quot;</td><td>&quot;{&quot;type&quot;:&quot;Point&quot;,&quot;coordinates&quot;:…</td></tr><tr><td>&quot;ET00853&quot;</td><td>&quot;TIMC-aigle&quot;</td><td>&quot;TIMC-aigle&quot;</td><td>246</td><td>&quot;38185&quot;</td><td>&quot;Grenoble&quot;</td><td>&quot;38&quot;</td><td>&quot;Isère&quot;</td><td>2</td><td>&quot;ETUDE&quot;</td><td>&quot;Urbain&quot;</td><td>&quot;PM10,PM2.5,humidité relative,p…</td><td>&quot;2022-06-29T00:00:00Z&quot;</td><td>&quot;2023-12-31T00:00:00Z&quot;</td><td>0</td><td>&quot;913402.5333583639&quot;</td><td>&quot;6456783.681713901&quot;</td><td>&quot;{&quot;type&quot;:&quot;Point&quot;,&quot;coordinates&quot;:…</td></tr><tr><td>&quot;ET00854&quot;</td><td>&quot;TIMC-Abbaye&quot;</td><td>&quot;TIMC-Abbaye&quot;</td><td>246</td><td>&quot;38185&quot;</td><td>&quot;Grenoble&quot;</td><td>&quot;38&quot;</td><td>&quot;Isère&quot;</td><td>2</td><td>&quot;ETUDE&quot;</td><td>&quot;Urbain&quot;</td><td>&quot;PM10,PM2.5,humidité relative,p…</td><td>&quot;2022-06-30T00:00:00Z&quot;</td><td>&quot;2023-12-31T00:00:00Z&quot;</td><td>0</td><td>&quot;915991.4567776712&quot;</td><td>&quot;6456781.5588064995&quot;</td><td>&quot;{&quot;type&quot;:&quot;Point&quot;,&quot;coordinates&quot;:…</td></tr><tr><td>&quot;ET00855&quot;</td><td>&quot;TIMC-Bachelard&quot;</td><td>&quot;TIMC-Bachelard&quot;</td><td>246</td><td>&quot;38185&quot;</td><td>&quot;Grenoble&quot;</td><td>&quot;38&quot;</td><td>&quot;Isère&quot;</td><td>2</td><td>&quot;ETUDE&quot;</td><td>&quot;Urbain&quot;</td><td>&quot;PM10,PM2.5,humidité relative,p…</td><td>&quot;2022-07-19T00:00:00Z&quot;</td><td>&quot;2023-12-31T00:00:00Z&quot;</td><td>0</td><td>&quot;912718.0028314267&quot;</td><td>&quot;6455313.967486507&quot;</td><td>&quot;{&quot;type&quot;:&quot;Point&quot;,&quot;coordinates&quot;:…</td></tr><tr><td>&quot;ET00856&quot;</td><td>&quot;TIMC-Mistral&quot;</td><td>&quot;TIMC-Mistral&quot;</td><td>246</td><td>&quot;38185&quot;</td><td>&quot;Grenoble&quot;</td><td>&quot;38&quot;</td><td>&quot;Isère&quot;</td><td>2</td><td>&quot;ETUDE&quot;</td><td>&quot;Urbain&quot;</td><td>&quot;PM10,PM2.5,humidité relative,p…</td><td>&quot;2022-07-19T00:00:00Z&quot;</td><td>&quot;2023-12-31T00:00:00Z&quot;</td><td>0</td><td>&quot;912435.2789130654&quot;</td><td>&quot;6456303.512975787&quot;</td><td>&quot;{&quot;type&quot;:&quot;Point&quot;,&quot;coordinates&quot;:…</td></tr><tr><td>&quot;ET00857&quot;</td><td>&quot;TIMC-StBruno&quot;</td><td>&quot;TIMC-StBruno&quot;</td><td>246</td><td>&quot;38185&quot;</td><td>&quot;Grenoble&quot;</td><td>&quot;38&quot;</td><td>&quot;Isère&quot;</td><td>2</td><td>&quot;ETUDE&quot;</td><td>&quot;Urbain&quot;</td><td>&quot;PM10,PM2.5,humidité relative,p…</td><td>&quot;2022-07-27T00:00:00Z&quot;</td><td>&quot;2023-12-31T00:00:00Z&quot;</td><td>0</td><td>&quot;912749.3503008336&quot;</td><td>&quot;6457744.465197722&quot;</td><td>&quot;{&quot;type&quot;:&quot;Point&quot;,&quot;coordinates&quot;:…</td></tr><tr><td>&quot;ET00858&quot;</td><td>&quot;TIMC-HyperCentre&quot;</td><td>&quot;TIMC-HyperCentre&quot;</td><td>246</td><td>&quot;38185&quot;</td><td>&quot;Grenoble&quot;</td><td>&quot;38&quot;</td><td>&quot;Isère&quot;</td><td>2</td><td>&quot;ETUDE&quot;</td><td>&quot;Urbain&quot;</td><td>&quot;PM10,PM2.5,humidité relative,p…</td><td>&quot;2022-09-03T00:00:00Z&quot;</td><td>&quot;2023-12-31T00:00:00Z&quot;</td><td>0</td><td>&quot;914537.132053372&quot;</td><td>&quot;6458387.391952469&quot;</td><td>&quot;{&quot;type&quot;:&quot;Point&quot;,&quot;coordinates&quot;:…</td></tr><tr><td>&quot;FR15043&quot;</td><td>&quot;Grenoble les Frênes&quot;</td><td>&quot;Grenoble Les Frenes&quot;</td><td>219</td><td>&quot;38185&quot;</td><td>&quot;Grenoble&quot;</td><td>&quot;38&quot;</td><td>&quot;Isère&quot;</td><td>1</td><td>&quot;FIXE&quot;</td><td>&quot;Urbain&quot;</td><td>&quot;BC,BCwb,Chl in PM1,NH3,NH4 in …</td><td>&quot;2001-01-30T00:00:00Z&quot;</td><td>null</td><td>1</td><td>&quot;914897.625&quot;</td><td>&quot;6455123&quot;</td><td>&quot;{&quot;type&quot;:&quot;Point&quot;,&quot;coordinates&quot;:…</td></tr><tr><td>&quot;FR15046&quot;</td><td>&quot;Grenoble Boulevards&quot;</td><td>&quot;Grenoble Boulevards&quot;</td><td>218</td><td>&quot;38185&quot;</td><td>&quot;Grenoble&quot;</td><td>&quot;38&quot;</td><td>&quot;Isère&quot;</td><td>1</td><td>&quot;FIXE&quot;</td><td>&quot;Urbain&quot;</td><td>&quot;CO,NO,NO2,Nox,O3,PM10,PM2.5,hu…</td><td>&quot;2007-01-03T00:00:00Z&quot;</td><td>null</td><td>1</td><td>&quot;913649.8125&quot;</td><td>&quot;6457168&quot;</td><td>&quot;{&quot;type&quot;:&quot;Point&quot;,&quot;coordinates&quot;:…</td></tr></tbody></table></div>"
      ],
      "text/plain": [
       "shape: (10, 18)\n",
       "┌─────┬─────┬─────┬─────┬─────┬─────┬─────┬─────┬─────┬─────┬─────┬─────┬─────┬─────┬─────┬─────┬─────┬─────┐\n",
       "│ id  ┆ lab ┆ lab ┆ alt ┆ ins ┆ lab ┆ dep ┆ lab ┆ typ ┆ lab ┆ typ ┆ lab ┆ dat ┆ dat ┆ en_ ┆ lon ┆ lat ┆ geo │\n",
       "│ --- ┆ el  ┆ el_ ┆ itu ┆ ee  ┆ el_ ┆ art ┆ el_ ┆ e   ┆ el_ ┆ olo ┆ el_ ┆ e_d ┆ e_f ┆ ser ┆ _ep ┆ _ep ┆ jso │\n",
       "│ str ┆ --- ┆ int ┆ de  ┆ --- ┆ com ┆ eme ┆ dep ┆ --- ┆ typ ┆ gie ┆ cou ┆ ebu ┆ in  ┆ vic ┆ sg2 ┆ sg2 ┆ n   │\n",
       "│     ┆ str ┆ ern ┆ --- ┆ str ┆ mun ┆ nt  ┆ art ┆ i64 ┆ e   ┆ --- ┆ rt_ ┆ t   ┆ --- ┆ e   ┆ 154 ┆ 154 ┆ --- │\n",
       "│     ┆     ┆ e   ┆ i64 ┆     ┆ e   ┆ --- ┆ eme ┆     ┆ --- ┆ str ┆ pol ┆ --- ┆ str ┆ --- ┆ --- ┆ --- ┆ str │\n",
       "│     ┆     ┆ --- ┆     ┆     ┆ --- ┆ str ┆ nt  ┆     ┆ str ┆     ┆ lua ┆ str ┆     ┆ i64 ┆ str ┆ str ┆     │\n",
       "│     ┆     ┆ str ┆     ┆     ┆ str ┆     ┆ --- ┆     ┆     ┆     ┆ nts ┆     ┆     ┆     ┆     ┆     ┆     │\n",
       "│     ┆     ┆     ┆     ┆     ┆     ┆     ┆ str ┆     ┆     ┆     ┆ --- ┆     ┆     ┆     ┆     ┆     ┆     │\n",
       "│     ┆     ┆     ┆     ┆     ┆     ┆     ┆     ┆     ┆     ┆     ┆ str ┆     ┆     ┆     ┆     ┆     ┆     │\n",
       "╞═════╪═════╪═════╪═════╪═════╪═════╪═════╪═════╪═════╪═════╪═════╪═════╪═════╪═════╪═════╪═════╪═════╪═════╡\n",
       "│ ET0 ┆ GAM ┆ GAM ┆ nul ┆ 381 ┆ Gre ┆ 38  ┆ Isè ┆ 2   ┆ ETU ┆ Obs ┆ PM1 ┆ 202 ┆ nul ┆ 1   ┆ 913 ┆ 645 ┆ {\"t │\n",
       "│ 074 ┆ _Gr ┆ _Gr ┆ l   ┆ 85  ┆ nob ┆     ┆ re  ┆     ┆ DE  ┆ erv ┆ 0,P ┆ 1-0 ┆ l   ┆     ┆ 823 ┆ 628 ┆ ype │\n",
       "│ 9   ┆ eno ┆ eno ┆     ┆     ┆ le  ┆     ┆     ┆     ┆     ┆ ati ┆ M2. ┆ 9-0 ┆     ┆     ┆ .49 ┆ 9.1 ┆ \":\" │\n",
       "│     ┆ ble ┆ ble ┆     ┆     ┆     ┆     ┆     ┆     ┆     ┆ on  ┆ 5,h ┆ 1T0 ┆     ┆     ┆ 990 ┆ 200 ┆ Poi │\n",
       "│     ┆     ┆     ┆     ┆     ┆     ┆     ┆     ┆     ┆     ┆ Spé ┆ umi ┆ 0:0 ┆     ┆     ┆ 806 ┆ 985 ┆ nt\" │\n",
       "│     ┆     ┆     ┆     ┆     ┆     ┆     ┆     ┆     ┆     ┆ cif ┆ dit ┆ 0:0 ┆     ┆     ┆ 87  ┆ 73  ┆ ,\"c │\n",
       "│     ┆     ┆     ┆     ┆     ┆     ┆     ┆     ┆     ┆     ┆ iqu ┆ é   ┆ 0Z  ┆     ┆     ┆     ┆     ┆ oor │\n",
       "│     ┆     ┆     ┆     ┆     ┆     ┆     ┆     ┆     ┆     ┆ e   ┆ rel ┆     ┆     ┆     ┆     ┆     ┆ din │\n",
       "│     ┆     ┆     ┆     ┆     ┆     ┆     ┆     ┆     ┆     ┆     ┆ ati ┆     ┆     ┆     ┆     ┆     ┆ ate │\n",
       "│     ┆     ┆     ┆     ┆     ┆     ┆     ┆     ┆     ┆     ┆     ┆ ve, ┆     ┆     ┆     ┆     ┆     ┆ s\": │\n",
       "│     ┆     ┆     ┆     ┆     ┆     ┆     ┆     ┆     ┆     ┆     ┆ p…  ┆     ┆     ┆     ┆     ┆     ┆ …   │\n",
       "│ ET0 ┆ TIM ┆ TIM ┆ 246 ┆ 381 ┆ Gre ┆ 38  ┆ Isè ┆ 2   ┆ ETU ┆ Urb ┆ PM1 ┆ 202 ┆ 202 ┆ 0   ┆ 914 ┆ 645 ┆ {\"t │\n",
       "│ 085 ┆ C-c ┆ C-c ┆     ┆ 85  ┆ nob ┆     ┆ re  ┆     ┆ DE  ┆ ain ┆ 0,P ┆ 2-0 ┆ 3-1 ┆     ┆ 818 ┆ 737 ┆ ype │\n",
       "│ 2   ┆ lem ┆ lem ┆     ┆     ┆ le  ┆     ┆     ┆     ┆     ┆     ┆ M2. ┆ 1-1 ┆ 2-3 ┆     ┆ .09 ┆ 2.6 ┆ \":\" │\n",
       "│     ┆ enc ┆ enc ┆     ┆     ┆     ┆     ┆     ┆     ┆     ┆     ┆ 5,h ┆ 7T0 ┆ 1T0 ┆     ┆ 077 ┆ 507 ┆ Poi │\n",
       "│     ┆ eau ┆ eau ┆     ┆     ┆     ┆     ┆     ┆     ┆     ┆     ┆ umi ┆ 0:0 ┆ 0:0 ┆     ┆ 007 ┆ 569 ┆ nt\" │\n",
       "│     ┆     ┆     ┆     ┆     ┆     ┆     ┆     ┆     ┆     ┆     ┆ dit ┆ 0:0 ┆ 0:0 ┆     ┆ 07  ┆ 24  ┆ ,\"c │\n",
       "│     ┆     ┆     ┆     ┆     ┆     ┆     ┆     ┆     ┆     ┆     ┆ é   ┆ 0Z  ┆ 0Z  ┆     ┆     ┆     ┆ oor │\n",
       "│     ┆     ┆     ┆     ┆     ┆     ┆     ┆     ┆     ┆     ┆     ┆ rel ┆     ┆     ┆     ┆     ┆     ┆ din │\n",
       "│     ┆     ┆     ┆     ┆     ┆     ┆     ┆     ┆     ┆     ┆     ┆ ati ┆     ┆     ┆     ┆     ┆     ┆ ate │\n",
       "│     ┆     ┆     ┆     ┆     ┆     ┆     ┆     ┆     ┆     ┆     ┆ ve, ┆     ┆     ┆     ┆     ┆     ┆ s\": │\n",
       "│     ┆     ┆     ┆     ┆     ┆     ┆     ┆     ┆     ┆     ┆     ┆ p…  ┆     ┆     ┆     ┆     ┆     ┆ …   │\n",
       "│ ET0 ┆ TIM ┆ TIM ┆ 246 ┆ 381 ┆ Gre ┆ 38  ┆ Isè ┆ 2   ┆ ETU ┆ Urb ┆ PM1 ┆ 202 ┆ 202 ┆ 0   ┆ 913 ┆ 645 ┆ {\"t │\n",
       "│ 085 ┆ C-a ┆ C-a ┆     ┆ 85  ┆ nob ┆     ┆ re  ┆     ┆ DE  ┆ ain ┆ 0,P ┆ 2-0 ┆ 3-1 ┆     ┆ 402 ┆ 678 ┆ ype │\n",
       "│ 3   ┆ igl ┆ igl ┆     ┆     ┆ le  ┆     ┆     ┆     ┆     ┆     ┆ M2. ┆ 6-2 ┆ 2-3 ┆     ┆ .53 ┆ 3.6 ┆ \":\" │\n",
       "│     ┆ e   ┆ e   ┆     ┆     ┆     ┆     ┆     ┆     ┆     ┆     ┆ 5,h ┆ 9T0 ┆ 1T0 ┆     ┆ 335 ┆ 817 ┆ Poi │\n",
       "│     ┆     ┆     ┆     ┆     ┆     ┆     ┆     ┆     ┆     ┆     ┆ umi ┆ 0:0 ┆ 0:0 ┆     ┆ 836 ┆ 139 ┆ nt\" │\n",
       "│     ┆     ┆     ┆     ┆     ┆     ┆     ┆     ┆     ┆     ┆     ┆ dit ┆ 0:0 ┆ 0:0 ┆     ┆ 39  ┆ 01  ┆ ,\"c │\n",
       "│     ┆     ┆     ┆     ┆     ┆     ┆     ┆     ┆     ┆     ┆     ┆ é   ┆ 0Z  ┆ 0Z  ┆     ┆     ┆     ┆ oor │\n",
       "│     ┆     ┆     ┆     ┆     ┆     ┆     ┆     ┆     ┆     ┆     ┆ rel ┆     ┆     ┆     ┆     ┆     ┆ din │\n",
       "│     ┆     ┆     ┆     ┆     ┆     ┆     ┆     ┆     ┆     ┆     ┆ ati ┆     ┆     ┆     ┆     ┆     ┆ ate │\n",
       "│     ┆     ┆     ┆     ┆     ┆     ┆     ┆     ┆     ┆     ┆     ┆ ve, ┆     ┆     ┆     ┆     ┆     ┆ s\": │\n",
       "│     ┆     ┆     ┆     ┆     ┆     ┆     ┆     ┆     ┆     ┆     ┆ p…  ┆     ┆     ┆     ┆     ┆     ┆ …   │\n",
       "│ ET0 ┆ TIM ┆ TIM ┆ 246 ┆ 381 ┆ Gre ┆ 38  ┆ Isè ┆ 2   ┆ ETU ┆ Urb ┆ PM1 ┆ 202 ┆ 202 ┆ 0   ┆ 915 ┆ 645 ┆ {\"t │\n",
       "│ 085 ┆ C-A ┆ C-A ┆     ┆ 85  ┆ nob ┆     ┆ re  ┆     ┆ DE  ┆ ain ┆ 0,P ┆ 2-0 ┆ 3-1 ┆     ┆ 991 ┆ 678 ┆ ype │\n",
       "│ 4   ┆ bba ┆ bba ┆     ┆     ┆ le  ┆     ┆     ┆     ┆     ┆     ┆ M2. ┆ 6-3 ┆ 2-3 ┆     ┆ .45 ┆ 1.5 ┆ \":\" │\n",
       "│     ┆ ye  ┆ ye  ┆     ┆     ┆     ┆     ┆     ┆     ┆     ┆     ┆ 5,h ┆ 0T0 ┆ 1T0 ┆     ┆ 677 ┆ 588 ┆ Poi │\n",
       "│     ┆     ┆     ┆     ┆     ┆     ┆     ┆     ┆     ┆     ┆     ┆ umi ┆ 0:0 ┆ 0:0 ┆     ┆ 767 ┆ 064 ┆ nt\" │\n",
       "│     ┆     ┆     ┆     ┆     ┆     ┆     ┆     ┆     ┆     ┆     ┆ dit ┆ 0:0 ┆ 0:0 ┆     ┆ 12  ┆ 995 ┆ ,\"c │\n",
       "│     ┆     ┆     ┆     ┆     ┆     ┆     ┆     ┆     ┆     ┆     ┆ é   ┆ 0Z  ┆ 0Z  ┆     ┆     ┆     ┆ oor │\n",
       "│     ┆     ┆     ┆     ┆     ┆     ┆     ┆     ┆     ┆     ┆     ┆ rel ┆     ┆     ┆     ┆     ┆     ┆ din │\n",
       "│     ┆     ┆     ┆     ┆     ┆     ┆     ┆     ┆     ┆     ┆     ┆ ati ┆     ┆     ┆     ┆     ┆     ┆ ate │\n",
       "│     ┆     ┆     ┆     ┆     ┆     ┆     ┆     ┆     ┆     ┆     ┆ ve, ┆     ┆     ┆     ┆     ┆     ┆ s\": │\n",
       "│     ┆     ┆     ┆     ┆     ┆     ┆     ┆     ┆     ┆     ┆     ┆ p…  ┆     ┆     ┆     ┆     ┆     ┆ …   │\n",
       "│ ET0 ┆ TIM ┆ TIM ┆ 246 ┆ 381 ┆ Gre ┆ 38  ┆ Isè ┆ 2   ┆ ETU ┆ Urb ┆ PM1 ┆ 202 ┆ 202 ┆ 0   ┆ 912 ┆ 645 ┆ {\"t │\n",
       "│ 085 ┆ C-B ┆ C-B ┆     ┆ 85  ┆ nob ┆     ┆ re  ┆     ┆ DE  ┆ ain ┆ 0,P ┆ 2-0 ┆ 3-1 ┆     ┆ 718 ┆ 531 ┆ ype │\n",
       "│ 5   ┆ ach ┆ ach ┆     ┆     ┆ le  ┆     ┆     ┆     ┆     ┆     ┆ M2. ┆ 7-1 ┆ 2-3 ┆     ┆ .00 ┆ 3.9 ┆ \":\" │\n",
       "│     ┆ ela ┆ ela ┆     ┆     ┆     ┆     ┆     ┆     ┆     ┆     ┆ 5,h ┆ 9T0 ┆ 1T0 ┆     ┆ 283 ┆ 674 ┆ Poi │\n",
       "│     ┆ rd  ┆ rd  ┆     ┆     ┆     ┆     ┆     ┆     ┆     ┆     ┆ umi ┆ 0:0 ┆ 0:0 ┆     ┆ 142 ┆ 865 ┆ nt\" │\n",
       "│     ┆     ┆     ┆     ┆     ┆     ┆     ┆     ┆     ┆     ┆     ┆ dit ┆ 0:0 ┆ 0:0 ┆     ┆ 67  ┆ 07  ┆ ,\"c │\n",
       "│     ┆     ┆     ┆     ┆     ┆     ┆     ┆     ┆     ┆     ┆     ┆ é   ┆ 0Z  ┆ 0Z  ┆     ┆     ┆     ┆ oor │\n",
       "│     ┆     ┆     ┆     ┆     ┆     ┆     ┆     ┆     ┆     ┆     ┆ rel ┆     ┆     ┆     ┆     ┆     ┆ din │\n",
       "│     ┆     ┆     ┆     ┆     ┆     ┆     ┆     ┆     ┆     ┆     ┆ ati ┆     ┆     ┆     ┆     ┆     ┆ ate │\n",
       "│     ┆     ┆     ┆     ┆     ┆     ┆     ┆     ┆     ┆     ┆     ┆ ve, ┆     ┆     ┆     ┆     ┆     ┆ s\": │\n",
       "│     ┆     ┆     ┆     ┆     ┆     ┆     ┆     ┆     ┆     ┆     ┆ p…  ┆     ┆     ┆     ┆     ┆     ┆ …   │\n",
       "│ ET0 ┆ TIM ┆ TIM ┆ 246 ┆ 381 ┆ Gre ┆ 38  ┆ Isè ┆ 2   ┆ ETU ┆ Urb ┆ PM1 ┆ 202 ┆ 202 ┆ 0   ┆ 912 ┆ 645 ┆ {\"t │\n",
       "│ 085 ┆ C-M ┆ C-M ┆     ┆ 85  ┆ nob ┆     ┆ re  ┆     ┆ DE  ┆ ain ┆ 0,P ┆ 2-0 ┆ 3-1 ┆     ┆ 435 ┆ 630 ┆ ype │\n",
       "│ 6   ┆ ist ┆ ist ┆     ┆     ┆ le  ┆     ┆     ┆     ┆     ┆     ┆ M2. ┆ 7-1 ┆ 2-3 ┆     ┆ .27 ┆ 3.5 ┆ \":\" │\n",
       "│     ┆ ral ┆ ral ┆     ┆     ┆     ┆     ┆     ┆     ┆     ┆     ┆ 5,h ┆ 9T0 ┆ 1T0 ┆     ┆ 891 ┆ 129 ┆ Poi │\n",
       "│     ┆     ┆     ┆     ┆     ┆     ┆     ┆     ┆     ┆     ┆     ┆ umi ┆ 0:0 ┆ 0:0 ┆     ┆ 306 ┆ 757 ┆ nt\" │\n",
       "│     ┆     ┆     ┆     ┆     ┆     ┆     ┆     ┆     ┆     ┆     ┆ dit ┆ 0:0 ┆ 0:0 ┆     ┆ 54  ┆ 87  ┆ ,\"c │\n",
       "│     ┆     ┆     ┆     ┆     ┆     ┆     ┆     ┆     ┆     ┆     ┆ é   ┆ 0Z  ┆ 0Z  ┆     ┆     ┆     ┆ oor │\n",
       "│     ┆     ┆     ┆     ┆     ┆     ┆     ┆     ┆     ┆     ┆     ┆ rel ┆     ┆     ┆     ┆     ┆     ┆ din │\n",
       "│     ┆     ┆     ┆     ┆     ┆     ┆     ┆     ┆     ┆     ┆     ┆ ati ┆     ┆     ┆     ┆     ┆     ┆ ate │\n",
       "│     ┆     ┆     ┆     ┆     ┆     ┆     ┆     ┆     ┆     ┆     ┆ ve, ┆     ┆     ┆     ┆     ┆     ┆ s\": │\n",
       "│     ┆     ┆     ┆     ┆     ┆     ┆     ┆     ┆     ┆     ┆     ┆ p…  ┆     ┆     ┆     ┆     ┆     ┆ …   │\n",
       "│ ET0 ┆ TIM ┆ TIM ┆ 246 ┆ 381 ┆ Gre ┆ 38  ┆ Isè ┆ 2   ┆ ETU ┆ Urb ┆ PM1 ┆ 202 ┆ 202 ┆ 0   ┆ 912 ┆ 645 ┆ {\"t │\n",
       "│ 085 ┆ C-S ┆ C-S ┆     ┆ 85  ┆ nob ┆     ┆ re  ┆     ┆ DE  ┆ ain ┆ 0,P ┆ 2-0 ┆ 3-1 ┆     ┆ 749 ┆ 774 ┆ ype │\n",
       "│ 7   ┆ tBr ┆ tBr ┆     ┆     ┆ le  ┆     ┆     ┆     ┆     ┆     ┆ M2. ┆ 7-2 ┆ 2-3 ┆     ┆ .35 ┆ 4.4 ┆ \":\" │\n",
       "│     ┆ uno ┆ uno ┆     ┆     ┆     ┆     ┆     ┆     ┆     ┆     ┆ 5,h ┆ 7T0 ┆ 1T0 ┆     ┆ 030 ┆ 651 ┆ Poi │\n",
       "│     ┆     ┆     ┆     ┆     ┆     ┆     ┆     ┆     ┆     ┆     ┆ umi ┆ 0:0 ┆ 0:0 ┆     ┆ 083 ┆ 977 ┆ nt\" │\n",
       "│     ┆     ┆     ┆     ┆     ┆     ┆     ┆     ┆     ┆     ┆     ┆ dit ┆ 0:0 ┆ 0:0 ┆     ┆ 36  ┆ 22  ┆ ,\"c │\n",
       "│     ┆     ┆     ┆     ┆     ┆     ┆     ┆     ┆     ┆     ┆     ┆ é   ┆ 0Z  ┆ 0Z  ┆     ┆     ┆     ┆ oor │\n",
       "│     ┆     ┆     ┆     ┆     ┆     ┆     ┆     ┆     ┆     ┆     ┆ rel ┆     ┆     ┆     ┆     ┆     ┆ din │\n",
       "│     ┆     ┆     ┆     ┆     ┆     ┆     ┆     ┆     ┆     ┆     ┆ ati ┆     ┆     ┆     ┆     ┆     ┆ ate │\n",
       "│     ┆     ┆     ┆     ┆     ┆     ┆     ┆     ┆     ┆     ┆     ┆ ve, ┆     ┆     ┆     ┆     ┆     ┆ s\": │\n",
       "│     ┆     ┆     ┆     ┆     ┆     ┆     ┆     ┆     ┆     ┆     ┆ p…  ┆     ┆     ┆     ┆     ┆     ┆ …   │\n",
       "│ ET0 ┆ TIM ┆ TIM ┆ 246 ┆ 381 ┆ Gre ┆ 38  ┆ Isè ┆ 2   ┆ ETU ┆ Urb ┆ PM1 ┆ 202 ┆ 202 ┆ 0   ┆ 914 ┆ 645 ┆ {\"t │\n",
       "│ 085 ┆ C-H ┆ C-H ┆     ┆ 85  ┆ nob ┆     ┆ re  ┆     ┆ DE  ┆ ain ┆ 0,P ┆ 2-0 ┆ 3-1 ┆     ┆ 537 ┆ 838 ┆ ype │\n",
       "│ 8   ┆ ype ┆ ype ┆     ┆     ┆ le  ┆     ┆     ┆     ┆     ┆     ┆ M2. ┆ 9-0 ┆ 2-3 ┆     ┆ .13 ┆ 7.3 ┆ \":\" │\n",
       "│     ┆ rCe ┆ rCe ┆     ┆     ┆     ┆     ┆     ┆     ┆     ┆     ┆ 5,h ┆ 3T0 ┆ 1T0 ┆     ┆ 205 ┆ 919 ┆ Poi │\n",
       "│     ┆ ntr ┆ ntr ┆     ┆     ┆     ┆     ┆     ┆     ┆     ┆     ┆ umi ┆ 0:0 ┆ 0:0 ┆     ┆ 337 ┆ 524 ┆ nt\" │\n",
       "│     ┆ e   ┆ e   ┆     ┆     ┆     ┆     ┆     ┆     ┆     ┆     ┆ dit ┆ 0:0 ┆ 0:0 ┆     ┆ 2   ┆ 69  ┆ ,\"c │\n",
       "│     ┆     ┆     ┆     ┆     ┆     ┆     ┆     ┆     ┆     ┆     ┆ é   ┆ 0Z  ┆ 0Z  ┆     ┆     ┆     ┆ oor │\n",
       "│     ┆     ┆     ┆     ┆     ┆     ┆     ┆     ┆     ┆     ┆     ┆ rel ┆     ┆     ┆     ┆     ┆     ┆ din │\n",
       "│     ┆     ┆     ┆     ┆     ┆     ┆     ┆     ┆     ┆     ┆     ┆ ati ┆     ┆     ┆     ┆     ┆     ┆ ate │\n",
       "│     ┆     ┆     ┆     ┆     ┆     ┆     ┆     ┆     ┆     ┆     ┆ ve, ┆     ┆     ┆     ┆     ┆     ┆ s\": │\n",
       "│     ┆     ┆     ┆     ┆     ┆     ┆     ┆     ┆     ┆     ┆     ┆ p…  ┆     ┆     ┆     ┆     ┆     ┆ …   │\n",
       "│ FR1 ┆ Gre ┆ Gre ┆ 219 ┆ 381 ┆ Gre ┆ 38  ┆ Isè ┆ 1   ┆ FIX ┆ Urb ┆ BC, ┆ 200 ┆ nul ┆ 1   ┆ 914 ┆ 645 ┆ {\"t │\n",
       "│ 504 ┆ nob ┆ nob ┆     ┆ 85  ┆ nob ┆     ┆ re  ┆     ┆ E   ┆ ain ┆ BCw ┆ 1-0 ┆ l   ┆     ┆ 897 ┆ 512 ┆ ype │\n",
       "│ 3   ┆ le  ┆ le  ┆     ┆     ┆ le  ┆     ┆     ┆     ┆     ┆     ┆ b,C ┆ 1-3 ┆     ┆     ┆ .62 ┆ 3   ┆ \":\" │\n",
       "│     ┆ les ┆ Les ┆     ┆     ┆     ┆     ┆     ┆     ┆     ┆     ┆ hl  ┆ 0T0 ┆     ┆     ┆ 5   ┆     ┆ Poi │\n",
       "│     ┆ Frê ┆ Fre ┆     ┆     ┆     ┆     ┆     ┆     ┆     ┆     ┆ in  ┆ 0:0 ┆     ┆     ┆     ┆     ┆ nt\" │\n",
       "│     ┆ nes ┆ nes ┆     ┆     ┆     ┆     ┆     ┆     ┆     ┆     ┆ PM1 ┆ 0:0 ┆     ┆     ┆     ┆     ┆ ,\"c │\n",
       "│     ┆     ┆     ┆     ┆     ┆     ┆     ┆     ┆     ┆     ┆     ┆ ,NH ┆ 0Z  ┆     ┆     ┆     ┆     ┆ oor │\n",
       "│     ┆     ┆     ┆     ┆     ┆     ┆     ┆     ┆     ┆     ┆     ┆ 3,N ┆     ┆     ┆     ┆     ┆     ┆ din │\n",
       "│     ┆     ┆     ┆     ┆     ┆     ┆     ┆     ┆     ┆     ┆     ┆ H4  ┆     ┆     ┆     ┆     ┆     ┆ ate │\n",
       "│     ┆     ┆     ┆     ┆     ┆     ┆     ┆     ┆     ┆     ┆     ┆ in  ┆     ┆     ┆     ┆     ┆     ┆ s\": │\n",
       "│     ┆     ┆     ┆     ┆     ┆     ┆     ┆     ┆     ┆     ┆     ┆ …   ┆     ┆     ┆     ┆     ┆     ┆ …   │\n",
       "│ FR1 ┆ Gre ┆ Gre ┆ 218 ┆ 381 ┆ Gre ┆ 38  ┆ Isè ┆ 1   ┆ FIX ┆ Urb ┆ CO, ┆ 200 ┆ nul ┆ 1   ┆ 913 ┆ 645 ┆ {\"t │\n",
       "│ 504 ┆ nob ┆ nob ┆     ┆ 85  ┆ nob ┆     ┆ re  ┆     ┆ E   ┆ ain ┆ NO, ┆ 7-0 ┆ l   ┆     ┆ 649 ┆ 716 ┆ ype │\n",
       "│ 6   ┆ le  ┆ le  ┆     ┆     ┆ le  ┆     ┆     ┆     ┆     ┆     ┆ NO2 ┆ 1-0 ┆     ┆     ┆ .81 ┆ 8   ┆ \":\" │\n",
       "│     ┆ Bou ┆ Bou ┆     ┆     ┆     ┆     ┆     ┆     ┆     ┆     ┆ ,No ┆ 3T0 ┆     ┆     ┆ 25  ┆     ┆ Poi │\n",
       "│     ┆ lev ┆ lev ┆     ┆     ┆     ┆     ┆     ┆     ┆     ┆     ┆ x,O ┆ 0:0 ┆     ┆     ┆     ┆     ┆ nt\" │\n",
       "│     ┆ ard ┆ ard ┆     ┆     ┆     ┆     ┆     ┆     ┆     ┆     ┆ 3,P ┆ 0:0 ┆     ┆     ┆     ┆     ┆ ,\"c │\n",
       "│     ┆ s   ┆ s   ┆     ┆     ┆     ┆     ┆     ┆     ┆     ┆     ┆ M10 ┆ 0Z  ┆     ┆     ┆     ┆     ┆ oor │\n",
       "│     ┆     ┆     ┆     ┆     ┆     ┆     ┆     ┆     ┆     ┆     ┆ ,PM ┆     ┆     ┆     ┆     ┆     ┆ din │\n",
       "│     ┆     ┆     ┆     ┆     ┆     ┆     ┆     ┆     ┆     ┆     ┆ 2.5 ┆     ┆     ┆     ┆     ┆     ┆ ate │\n",
       "│     ┆     ┆     ┆     ┆     ┆     ┆     ┆     ┆     ┆     ┆     ┆ ,hu ┆     ┆     ┆     ┆     ┆     ┆ s\": │\n",
       "│     ┆     ┆     ┆     ┆     ┆     ┆     ┆     ┆     ┆     ┆     ┆ …   ┆     ┆     ┆     ┆     ┆     ┆ …   │\n",
       "└─────┴─────┴─────┴─────┴─────┴─────┴─────┴─────┴─────┴─────┴─────┴─────┴─────┴─────┴─────┴─────┴─────┴─────┘"
      ]
     },
     "execution_count": 6,
     "metadata": {},
     "output_type": "execute_result"
    }
   ],
   "source": [
    "mask_sites = (pl.col(\"label_commune\") == \"Grenoble\") & (pl.col(\"label_court_polluants\").str.contains(\"PM10|PM2.5\")) & ((pl.col(\"date_fin\") > \"2023\") | (pl.col(\"date_fin\").is_null()))\n",
    "sites_data.filter(mask_sites)"
   ]
  }
 ],
 "metadata": {
  "kernelspec": {
   "display_name": "ml",
   "language": "python",
   "name": "python3"
  },
  "language_info": {
   "codemirror_mode": {
    "name": "ipython",
    "version": 3
   },
   "file_extension": ".py",
   "mimetype": "text/x-python",
   "name": "python",
   "nbconvert_exporter": "python",
   "pygments_lexer": "ipython3",
   "version": "3.11.10"
  }
 },
 "nbformat": 4,
 "nbformat_minor": 2
}
