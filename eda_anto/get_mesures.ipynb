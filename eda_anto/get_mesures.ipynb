{
 "cells": [
  {
   "cell_type": "code",
   "execution_count": 5,
   "metadata": {},
   "outputs": [],
   "source": [
    "# Dependencies\n",
    "import polars as pl\n",
    "import requests"
   ]
  },
  {
   "cell_type": "code",
   "execution_count": 6,
   "metadata": {},
   "outputs": [],
   "source": [
    "response = requests.get(\"https://api.atmo-aura.fr/api/v1/mesures?api_token=d74c07197ec9da83735c487bcb94e386&format=json&label_court_polluant=PM10\")\n",
    "measure_data = pl.DataFrame(response.json()['data'])"
   ]
  },
  {
   "cell_type": "code",
   "execution_count": 8,
   "metadata": {},
   "outputs": [
    {
     "data": {
      "text/html": [
       "<div><style>\n",
       ".dataframe > thead > tr,\n",
       ".dataframe > tbody > tr {\n",
       "  text-align: right;\n",
       "  white-space: pre-wrap;\n",
       "}\n",
       "</style>\n",
       "<small>shape: (4, 23)</small><table border=\"1\" class=\"dataframe\"><thead><tr><th>id</th><th>label_mesure</th><th>site_id</th><th>label_site</th><th>code_polluant</th><th>label_polluant</th><th>id_poll_ue</th><th>label_court_polluant</th><th>label_unite</th><th>label_court_unite</th><th>unite</th><th>type_mesure</th><th>type_appareil</th><th>type_appareil_id</th><th>typologie</th><th>influence</th><th>incertitude</th><th>date_debut</th><th>date_fin</th><th>en_service</th><th>lon_epsg2154</th><th>lat_epsg2154</th><th>geojson</th></tr><tr><td>str</td><td>str</td><td>str</td><td>str</td><td>str</td><td>str</td><td>str</td><td>str</td><td>str</td><td>str</td><td>str</td><td>str</td><td>str</td><td>i64</td><td>str</td><td>str</td><td>str</td><td>str</td><td>str</td><td>i64</td><td>str</td><td>str</td><td>str</td></tr></thead><tbody><tr><td>&quot;FR15043_24_11&quot;</td><td>&quot;Particules PM10&quot;</td><td>&quot;FR15043&quot;</td><td>&quot;Grenoble les Frênes&quot;</td><td>&quot;24&quot;</td><td>&quot;particules PM10&quot;</td><td>&quot;5&quot;</td><td>&quot;PM10&quot;</td><td>&quot;Microgramme par m3&quot;</td><td>&quot;microg/m3&quot;</td><td>&quot;µg/m³&quot;</td><td>&quot;Mesure Automatique&quot;</td><td>&quot;Analyseur Air&quot;</td><td>11</td><td>&quot;Urbain&quot;</td><td>&quot;fond&quot;</td><td>null</td><td>&quot;2001-02-20T00:00:00Z&quot;</td><td>null</td><td>1</td><td>&quot;914897.625&quot;</td><td>&quot;6455123&quot;</td><td>&quot;{&quot;type&quot;:&quot;Point&quot;,&quot;coordinates&quot;:…</td></tr><tr><td>&quot;FR15043_24_57_3&quot;</td><td>&quot;Pm10&quot;</td><td>&quot;FR15043&quot;</td><td>&quot;Grenoble les Frênes&quot;</td><td>&quot;24&quot;</td><td>&quot;particules PM10&quot;</td><td>null</td><td>&quot;PM10&quot;</td><td>&quot;Microgramme par m3&quot;</td><td>&quot;microg/m3&quot;</td><td>&quot;µg/m³&quot;</td><td>&quot;Mesure Automatique&quot;</td><td>&quot;Microcapteur (site fixe)&quot;</td><td>57</td><td>&quot;Urbain&quot;</td><td>&quot;fond&quot;</td><td>null</td><td>&quot;2021-01-01T00:00:00Z&quot;</td><td>null</td><td>1</td><td>&quot;914897.625&quot;</td><td>&quot;6455123&quot;</td><td>&quot;{&quot;type&quot;:&quot;Point&quot;,&quot;coordinates&quot;:…</td></tr><tr><td>&quot;FR15043_24_57_4&quot;</td><td>&quot;Pm10&quot;</td><td>&quot;FR15043&quot;</td><td>&quot;Grenoble les Frênes&quot;</td><td>&quot;24&quot;</td><td>&quot;particules PM10&quot;</td><td>null</td><td>&quot;PM10&quot;</td><td>&quot;Microgramme par m3&quot;</td><td>&quot;microg/m3&quot;</td><td>&quot;µg/m³&quot;</td><td>&quot;Mesure Automatique&quot;</td><td>&quot;Microcapteur (site fixe)&quot;</td><td>57</td><td>&quot;Urbain&quot;</td><td>&quot;fond&quot;</td><td>null</td><td>&quot;2021-01-01T00:00:00Z&quot;</td><td>null</td><td>1</td><td>&quot;914897.625&quot;</td><td>&quot;6455123&quot;</td><td>&quot;{&quot;type&quot;:&quot;Point&quot;,&quot;coordinates&quot;:…</td></tr><tr><td>&quot;FR15043_24_57_5&quot;</td><td>&quot;Pm10&quot;</td><td>&quot;FR15043&quot;</td><td>&quot;Grenoble les Frênes&quot;</td><td>&quot;24&quot;</td><td>&quot;particules PM10&quot;</td><td>null</td><td>&quot;PM10&quot;</td><td>&quot;Microgramme par m3&quot;</td><td>&quot;microg/m3&quot;</td><td>&quot;µg/m³&quot;</td><td>&quot;Mesure Automatique&quot;</td><td>&quot;Microcapteur (site fixe)&quot;</td><td>57</td><td>&quot;Urbain&quot;</td><td>&quot;fond&quot;</td><td>null</td><td>&quot;2021-01-01T00:00:00Z&quot;</td><td>null</td><td>1</td><td>&quot;914897.625&quot;</td><td>&quot;6455123&quot;</td><td>&quot;{&quot;type&quot;:&quot;Point&quot;,&quot;coordinates&quot;:…</td></tr></tbody></table></div>"
      ],
      "text/plain": [
       "shape: (4, 23)\n",
       "┌────────────┬───────────┬─────────┬───────────┬───┬───────────┬───────────┬───────────┬───────────┐\n",
       "│ id         ┆ label_mes ┆ site_id ┆ label_sit ┆ … ┆ en_servic ┆ lon_epsg2 ┆ lat_epsg2 ┆ geojson   │\n",
       "│ ---        ┆ ure       ┆ ---     ┆ e         ┆   ┆ e         ┆ 154       ┆ 154       ┆ ---       │\n",
       "│ str        ┆ ---       ┆ str     ┆ ---       ┆   ┆ ---       ┆ ---       ┆ ---       ┆ str       │\n",
       "│            ┆ str       ┆         ┆ str       ┆   ┆ i64       ┆ str       ┆ str       ┆           │\n",
       "╞════════════╪═══════════╪═════════╪═══════════╪═══╪═══════════╪═══════════╪═══════════╪═══════════╡\n",
       "│ FR15043_24 ┆ Particule ┆ FR15043 ┆ Grenoble  ┆ … ┆ 1         ┆ 914897.62 ┆ 6455123   ┆ {\"type\":\" │\n",
       "│ _11        ┆ s PM10    ┆         ┆ les       ┆   ┆           ┆ 5         ┆           ┆ Point\",\"c │\n",
       "│            ┆           ┆         ┆ Frênes    ┆   ┆           ┆           ┆           ┆ oordinate │\n",
       "│            ┆           ┆         ┆           ┆   ┆           ┆           ┆           ┆ s\":…      │\n",
       "│ FR15043_24 ┆ Pm10      ┆ FR15043 ┆ Grenoble  ┆ … ┆ 1         ┆ 914897.62 ┆ 6455123   ┆ {\"type\":\" │\n",
       "│ _57_3      ┆           ┆         ┆ les       ┆   ┆           ┆ 5         ┆           ┆ Point\",\"c │\n",
       "│            ┆           ┆         ┆ Frênes    ┆   ┆           ┆           ┆           ┆ oordinate │\n",
       "│            ┆           ┆         ┆           ┆   ┆           ┆           ┆           ┆ s\":…      │\n",
       "│ FR15043_24 ┆ Pm10      ┆ FR15043 ┆ Grenoble  ┆ … ┆ 1         ┆ 914897.62 ┆ 6455123   ┆ {\"type\":\" │\n",
       "│ _57_4      ┆           ┆         ┆ les       ┆   ┆           ┆ 5         ┆           ┆ Point\",\"c │\n",
       "│            ┆           ┆         ┆ Frênes    ┆   ┆           ┆           ┆           ┆ oordinate │\n",
       "│            ┆           ┆         ┆           ┆   ┆           ┆           ┆           ┆ s\":…      │\n",
       "│ FR15043_24 ┆ Pm10      ┆ FR15043 ┆ Grenoble  ┆ … ┆ 1         ┆ 914897.62 ┆ 6455123   ┆ {\"type\":\" │\n",
       "│ _57_5      ┆           ┆         ┆ les       ┆   ┆           ┆ 5         ┆           ┆ Point\",\"c │\n",
       "│            ┆           ┆         ┆ Frênes    ┆   ┆           ┆           ┆           ┆ oordinate │\n",
       "│            ┆           ┆         ┆           ┆   ┆           ┆           ┆           ┆ s\":…      │\n",
       "└────────────┴───────────┴─────────┴───────────┴───┴───────────┴───────────┴───────────┴───────────┘"
      ]
     },
     "execution_count": 8,
     "metadata": {},
     "output_type": "execute_result"
    }
   ],
   "source": [
    "measure_data.filter(pl.col(\"site_id\")=='FR15043')"
   ]
  }
 ],
 "metadata": {
  "kernelspec": {
   "display_name": "ml",
   "language": "python",
   "name": "python3"
  },
  "language_info": {
   "codemirror_mode": {
    "name": "ipython",
    "version": 3
   },
   "file_extension": ".py",
   "mimetype": "text/x-python",
   "name": "python",
   "nbconvert_exporter": "python",
   "pygments_lexer": "ipython3",
   "version": "3.11.10"
  }
 },
 "nbformat": 4,
 "nbformat_minor": 2
}
